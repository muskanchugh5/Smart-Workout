{
  "nbformat": 4,
  "nbformat_minor": 0,
  "metadata": {
    "colab": {
      "name": "Smart Workout",
      "provenance": [],
      "collapsed_sections": [],
      "toc_visible": true
    },
    "kernelspec": {
      "name": "python3",
      "display_name": "Python 3"
    },
    "accelerator": "GPU"
  },
  "cells": [
    {
      "cell_type": "markdown",
      "metadata": {
        "id": "X38L6tanrnrB"
      },
      "source": [
        "# Pose Detection with OpenPose\n",
        "\n",
        "This notebook uses an open source project [CMU-Perceptual-Computing-Lab/openpose](https://github.com/CMU-Perceptual-Computing-Lab/openpose.git) to detect/track multi person poses on a given youtube video.\n",
        "\n",
        "For other deep-learning Colab notebooks, visit [tugstugi/dl-colab-notebooks](https://github.com/tugstugi/dl-colab-notebooks).\n",
        "\n",
        "\n",
        "## Install OpenPose"
      ]
    },
    {
      "cell_type": "code",
      "metadata": {
        "id": "gM4qq7xjA3_r"
      },
      "source": [
        "import os\n",
        "from os.path import exists, join, basename, splitext\n",
        "\n",
        "git_repo_url = 'https://github.com/CMU-Perceptual-Computing-Lab/openpose.git'\n",
        "project_name = splitext(basename(git_repo_url))[0]\n",
        "if not exists(project_name):\n",
        "  # see: https://github.com/CMU-Perceptual-Computing-Lab/openpose/issues/949\n",
        "  # install new CMake becaue of CUDA10\n",
        "  !wget -q https://cmake.org/files/v3.13/cmake-3.13.0-Linux-x86_64.tar.gz\n",
        "  !tar xfz cmake-3.13.0-Linux-x86_64.tar.gz --strip-components=1 -C /usr/local\n",
        "  # clone openpose\n",
        "  !git clone -q --depth 1 $git_repo_url\n",
        "  !sed -i 's/execute_process(COMMAND git checkout master WORKING_DIRECTORY ${CMAKE_SOURCE_DIR}\\/3rdparty\\/caffe)/execute_process(COMMAND git checkout f019d0dfe86f49d1140961f8c7dec22130c83154 WORKING_DIRECTORY ${CMAKE_SOURCE_DIR}\\/3rdparty\\/caffe)/g' openpose/CMakeLists.txt\n",
        "  # install system dependencies\n",
        "  !apt-get -qq install -y libatlas-base-dev libprotobuf-dev libleveldb-dev libsnappy-dev libhdf5-serial-dev protobuf-compiler libgflags-dev libgoogle-glog-dev liblmdb-dev opencl-headers ocl-icd-opencl-dev libviennacl-dev\n",
        "  # install python dependencies\n",
        "  !pip install -q youtube-dl\n",
        "  # build openpose\n",
        "  !cd openpose && rm -rf build || true && mkdir build && cd build && cmake .. && make -j`nproc`\n",
        "  \n"
      ],
      "execution_count": null,
      "outputs": []
    },
    {
      "cell_type": "code",
      "metadata": {
        "id": "FAhvVeeq6y4H",
        "outputId": "7fa03c30-769a-4a04-9c80-299f00f48ef7",
        "colab": {
          "base_uri": "https://localhost:8080/",
          "height": 69
        }
      },
      "source": [
        "import cv2, os\n",
        "\n",
        "from moviepy.editor import *\n",
        "expert = cv2.VideoCapture('expert.mp4')\n",
        "fps_expert = expert.get(cv2.CAP_PROP_FPS)\n",
        "print(fps_expert)\n",
        "\n",
        "user = cv2.VideoCapture('user.mp4')\n",
        "fps_user = user.get(cv2.CAP_PROP_FPS)\n",
        "print(fps_user)\n",
        "\n",
        "if fps_expert >= fps_user:\n",
        "  os.system(\"ffmpeg -y -i user.mp4 -vf 'setpts=1.25*PTS' -r fps_expert user.mp4\")\n",
        "  user = cv2.VideoCapture('user.mp4')\n",
        "  fps_user = user.get(cv2.CAP_PROP_FPS)\n",
        "  print(fps_user)\n",
        "else:\n",
        "  os.system(\"ffmpeg -y -i expert.mp4 -vf 'setpts=1.25*PTS' -r fps_user expert.mp4\")\n",
        "  expert = cv2.VideoCapture('expert.mp4')\n",
        "  fps_expert = expert.get(cv2.CAP_PROP_FPS)\n",
        "  print(fps_expert)\n"
      ],
      "execution_count": null,
      "outputs": [
        {
          "output_type": "stream",
          "text": [
            "30.057\n",
            "30.132\n",
            "30.057\n"
          ],
          "name": "stdout"
        }
      ]
    },
    {
      "cell_type": "code",
      "metadata": {
        "id": "oNASdyyiO65I",
        "outputId": "c2ba60dc-641e-42bc-c152-a66dd6319e2d",
        "colab": {
          "base_uri": "https://localhost:8080/",
          "height": 225
        }
      },
      "source": [
        "!rm -rf openpose/output1\n",
        "!rm -rf openpose/output2\n",
        "!cd openpose && ./build/examples/openpose/openpose.bin --video ../expert.mp4 --write_json ./output1/ --display 0  --render_pose 0\n",
        "!cd openpose && ./build/examples/openpose/openpose.bin --video ../user.mp4 --write_json ./output2/ --display 0  --render_pose 0\n"
      ],
      "execution_count": null,
      "outputs": [
        {
          "output_type": "stream",
          "text": [
            "rm: cannot remove 'openpose1.avi': No such file or directory\n",
            "rm: cannot remove 'openpose2.avi': No such file or directory\n",
            "Starting OpenPose demo...\n",
            "Configuring OpenPose...\n",
            "Starting thread(s)...\n",
            "Auto-detecting all available GPUs... Detected 1 GPU(s), using 1 of them starting at GPU 0.\n",
            "OpenPose demo successfully finished. Total time: 6.487869 seconds.\n",
            "Starting OpenPose demo...\n",
            "Configuring OpenPose...\n",
            "Starting thread(s)...\n",
            "Auto-detecting all available GPUs... Detected 1 GPU(s), using 1 of them starting at GPU 0.\n",
            "OpenPose demo successfully finished. Total time: 6.370114 seconds.\n"
          ],
          "name": "stdout"
        }
      ]
    },
    {
      "cell_type": "markdown",
      "metadata": {
        "id": "n5L3Z5YVrZ2R"
      },
      "source": [
        "## Detect poses on a test video\n",
        "\n",
        "We are going to detect poses on the following youtube video:"
      ]
    },
    {
      "cell_type": "markdown",
      "metadata": {
        "id": "_8BCzzDAF5QF"
      },
      "source": [
        ""
      ]
    },
    {
      "cell_type": "code",
      "metadata": {
        "id": "e21FKcCT0Pw_"
      },
      "source": [
        "# import cv2, os\n",
        "\n",
        "# from moviepy.editor import *\n",
        "# user = cv2.VideoCapture('user.mp4')\n",
        "# fps_user = user.get(cv2.CAP_PROP_FPS)\n",
        "# os.system(\"ffmpeg -i user.mp4 -r fps_user user%09d.jpg -hide_banner\")"
      ],
      "execution_count": null,
      "outputs": []
    },
    {
      "cell_type": "code",
      "metadata": {
        "id": "f0lN-exRNtRe",
        "outputId": "1508147c-16d2-447b-e906-e6c8eee634da",
        "colab": {
          "base_uri": "https://localhost:8080/",
          "height": 471
        }
      },
      "source": [
        "!rm -rf images\n",
        "!mkdir images\n",
        "!ffmpeg -i user.mp4 images/user%09d.jpg -hide_banner "
      ],
      "execution_count": null,
      "outputs": [
        {
          "output_type": "stream",
          "text": [
            "Input #0, mov,mp4,m4a,3gp,3g2,mj2, from 'user.mp4':\n",
            "  Metadata:\n",
            "    major_brand     : mp42\n",
            "    minor_version   : 0\n",
            "    compatible_brands: mp42isom\n",
            "  Duration: 00:00:05.89, start: 0.000000, bitrate: 2163 kb/s\n",
            "    Stream #0:0(und): Video: h264 (Baseline) (avc1 / 0x31637661), yuv420p(tv, unknown/bt470bg/unknown), 352x640, 2049 kb/s, 30.13 fps, 30.13 tbr, 30132 tbn, 60264 tbc (default)\n",
            "    Stream #0:1(und): Audio: aac (LC) (mp4a / 0x6134706D), 48000 Hz, stereo, fltp, 123 kb/s (default)\n",
            "Stream mapping:\n",
            "  Stream #0:0 -> #0:0 (h264 (native) -> mjpeg (native))\n",
            "Press [q] to stop, [?] for help\n",
            "\u001b[1;34m[swscaler @ 0x55799252c000] \u001b[0m\u001b[0;33mdeprecated pixel format used, make sure you did set range correctly\n",
            "\u001b[0mOutput #0, image2, to 'images/user%09d.jpg':\n",
            "  Metadata:\n",
            "    major_brand     : mp42\n",
            "    minor_version   : 0\n",
            "    compatible_brands: mp42isom\n",
            "    encoder         : Lavf57.83.100\n",
            "    Stream #0:0(und): Video: mjpeg, yuvj420p(pc), 352x640, q=2-31, 200 kb/s, 30.13 fps, 30.13 tbn, 30.13 tbc (default)\n",
            "    Metadata:\n",
            "      encoder         : Lavc57.107.100 mjpeg\n",
            "    Side data:\n",
            "      cpb: bitrate max/min/avg: 0/0/200000 buffer size: 0 vbv_delay: -1\n",
            "frame=  176 fps=0.0 q=24.8 Lsize=N/A time=00:00:05.84 bitrate=N/A speed=17.7x    \n",
            "video:727kB audio:0kB subtitle:0kB other streams:0kB global headers:0kB muxing overhead: unknown\n"
          ],
          "name": "stdout"
        }
      ]
    },
    {
      "cell_type": "code",
      "metadata": {
        "id": "vRAXncyxa4bD"
      },
      "source": [
        "# !cd openpose && cd output1 && ls"
      ],
      "execution_count": null,
      "outputs": []
    },
    {
      "cell_type": "code",
      "metadata": {
        "id": "W48xs30xFll7"
      },
      "source": [
        "def compare(frame1,frame2):\n",
        "  angle_tupple =  makeListOfAngles(frame1, frame2)\n",
        "  angle1 = angle_tupple[0]\n",
        "  angle2 = angle_tupple[1]\n",
        "  k=0\n",
        "  length=0\n",
        "  diffsum=0\n",
        "  while(k<len(angle1) or k<len(angle2)):\n",
        "    if(angle1[k][1] == False or angle2[k][1] == False):\n",
        "      k += 1\n",
        "    else:\n",
        "      difference=(angle1[k][0]-angle2[k][0]);\n",
        "      if difference<0:\n",
        "        diffsum += abs(difference)\n",
        "      length += 1\n",
        "      k += 1\n",
        "\n",
        "  return diffsum/length\n",
        "\n",
        "def makeSignArray(frame1,frame5):\n",
        "  angle_tupple =  makeListOfAngles(frame1, frame5)\n",
        "  angle1 = angle_tupple[0]\n",
        "  angle2 = angle_tupple[1]\n",
        "  k=0\n",
        "  arr={}\n",
        "  diffsum=0\n",
        "  while(k<len(angle1) or k<len(angle2)):\n",
        "    if(angle1[k][1] == False or angle2[k][1] == False):\n",
        "      k += 1\n",
        "    else:\n",
        "      difference=(angle1[k][0]-angle2[k][0]);\n",
        "      if difference<0:\n",
        "        arr[k]=\"-\"\n",
        "      else:\n",
        "        arr[k]=\"-\"\n",
        "      k += 1\n",
        "  return arr\n",
        "\n",
        "def compareArr(expertArr,noviceArr):\n",
        "  count=0\n",
        "  for i in range(0, min(len(expertArr), len(noviceArr))):\n",
        "    if(expertArr.get(i) and noviceArr.get(i) and expertArr[i]==noviceArr[i]):\n",
        "      count+=1\n",
        "  if count > 4:\n",
        "    return True\n",
        "  return False\n",
        "\n",
        "def findFirstFrame(expert,novice):\n",
        "  i=0\n",
        "  temp=0\n",
        "  minimum = 10000000\n",
        "  Frame=0\n",
        "  # expertArr=makeSignArray(expert[0],expert[4])\n",
        "  for j in range(0,100):\n",
        "    diff=0\n",
        "    for i in range(0,20):\n",
        "      diff += compare(novice[j], expert[i])\n",
        "      j+=1\n",
        "    j-=20\n",
        "    # noviceArr=makeSignArray(novice[j],novice[j+5])\n",
        "   \n",
        "    # print(str(j) + '-' + str(diff))\n",
        "    if(diff/20 < minimum ): #and compareArr(expertArr,noviceArr)):\n",
        "      \n",
        "      minimum = diff/20\n",
        "      Frame = j\n",
        "\n",
        "  return Frame"
      ],
      "execution_count": null,
      "outputs": []
    },
    {
      "cell_type": "code",
      "metadata": {
        "id": "L9OOfWHJyjbT",
        "outputId": "f9c0268d-f20b-4981-f426-3200d811ec05",
        "colab": {
          "base_uri": "https://localhost:8080/",
          "height": 530
        }
      },
      "source": [
        "import os, json\n",
        "import pandas as pd\n",
        "import matplotlib.pyplot as plt\n",
        "import math\n",
        "import time\n",
        "import numpy as np\n",
        "import cv2\n",
        "from google.colab.patches import cv2_imshow\n",
        "\n",
        "def findKeyPoints(path):\n",
        "  path_to_json = path\n",
        "\n",
        "  json_files = [pos_json for pos_json in os.listdir(path_to_json) if pos_json.endswith('.json')]\n",
        "  json_files.sort()\n",
        "\n",
        "  points=[]\n",
        "  for index, js in enumerate(json_files):\n",
        "      with open(os.path.join(path_to_json, js)) as json_file:\n",
        "          json_text = json.load(json_file)\n",
        "          points.append(json_text[\"people\"][0][\"pose_keypoints_2d\"])\n",
        "  k=0\n",
        "  newPoints=[]\n",
        "  for x in points:\n",
        "    new=[]\n",
        "    for i in range(0,len(x),3):\n",
        "      new.append((x[i],x[i+1],x[i+2]))\n",
        "    newPoints.append(new)     \n",
        "#   print(newPoints)\n",
        "\n",
        "  X =[]\n",
        "  Y = []\n",
        "  C=[]\n",
        "  for i in newPoints:\n",
        "    x=[]\n",
        "    y=[]\n",
        "    c=[]\n",
        "    for j in i:\n",
        "      x.append(j[0])\n",
        "      y.append(j[1])\n",
        "      c.append(j[2])\n",
        "    X.append(x)\n",
        "    Y.append(y)\n",
        "    C.append(c)\n",
        "  return (newPoints, X, Y, C)\n",
        "\n",
        "  \n",
        "def plotSkeleton(X, Y, C, frame):\n",
        "  plt.axis([0, 2000, 0, 2000])\n",
        "  i = [17,15,0,16,0,4,3,2,1,5,6,23,22,11,11,10,9,8,12,13,21,14,19,1]\n",
        "  j = [15,0,16,18,1,3,2,1,5,6,7,22,11,24,10,9,8,12,13,14,14,19,20,8]\n",
        "  for z in range(0,len(i)):\n",
        "    if(C[frame][i[z]]==0 or C[frame][j[z]]==0) :\n",
        "      continue\n",
        "    p=[]\n",
        "    p.append(X[frame][i[z]])\n",
        "    p.append(X[frame][j[z]])\n",
        "    q=[]\n",
        "    q.append(-1*Y[frame][i[z]])\n",
        "    q.append(-1*Y[frame][j[z]])\n",
        "    plt.plot(p,q)\n",
        "  plt.xlim(500,1500)\n",
        "  plt.ylim(-1250,-250)\n",
        "  plt.gca().set_aspect('equal')\n",
        "  plt.show()\n",
        "\n",
        "  \n",
        "def plotPointsOnImage(X, Y, C):\n",
        "  \n",
        "  string9=\"000000000\"\n",
        "  for frame in range(0,len(X)):\n",
        "    temp=string9[:len(string9)-len(str(frame))]\n",
        "    image='images/user'+temp+str(frame)+\".jpg\"\n",
        "\n",
        "    img = cv2.imread(image,cv2.IMREAD_COLOR)\n",
        "\n",
        "    i = [17,15,0,16,0,4,3,2,1,5,6,23,22,11,11,10,9,8,12,13,21,14,19,1]\n",
        "    j = [15,0,16,18,1,3,2,1,5,6,7,22,11,24,10,9,8,12,13,14,14,19,20,8]\n",
        "\n",
        "    \n",
        "    \n",
        "    for z in range(0,len(i)):\n",
        "      if(C[frame][i[z]]==0 or C[frame][j[z]]==0) :\n",
        "        continue\n",
        "      \n",
        "      cv2.line(img,(int(X[frame][i[z]]),int(Y[frame][i[z]])),(int(X[frame][j[z]]),int(Y[frame][j[z]])),(0,255,0),7)\n",
        "      status = cv2.imwrite(image,img)\n",
        "\n",
        "\n",
        "  for no in range(0,len(X)):\n",
        "    temp=string9[:len(string9)-len(str(no))]\n",
        "    image='images/user'+temp+str(no)+\".jpg\"\n",
        "\n",
        "    img = cv2.imread(image,cv2.IMREAD_COLOR)\n",
        "    for i in range(0,len(X[no])):\n",
        "      cv2.circle(img,(int(X[no][i]),int(Y[no][i])), 5, (0,0,255), -1)\n",
        "\n",
        "    status = cv2.imwrite(image,img)\n",
        "\n",
        "\n",
        "\n",
        "def func(tuple2, tuple1, tuple3):\n",
        "#    pair <float, bool> p;\n",
        "  consider=True;\n",
        "  if(tuple1[2] == 0 or tuple2[2] == 0 or tuple3[2] == 0):\n",
        "    consider=False\n",
        "    return (0, consider)\n",
        "  m1 = math.atan2((tuple2[1]-tuple1[1]),(tuple2[0]-tuple1[0]))\n",
        "  m2 = math.atan2((tuple3[1]-tuple1[1]),(tuple3[0]-tuple1[0]))\n",
        "#   tantheta = abs((m2-m1)/(1+m1*m2))\n",
        "  return (abs(m2-m1), consider)\n",
        "\n",
        "  \n",
        "def makeListOfAngles(tuple1,tuple2):\n",
        "    angle1 = []\n",
        "  \n",
        "    angle1.append(func(tuple1[0],tuple1[15],tuple1[17])) #nose reye rear\n",
        "    angle1.append(func(tuple1[0],tuple1[16],tuple1[18])) #nose leye lear\n",
        "    angle1.append(func(tuple1[15],tuple1[0],tuple1[16])) #reye nose leye\n",
        "    angle1.append(func(tuple1[15],tuple1[0],tuple1[1])) #reye nose chest\n",
        "    angle1.append(func(tuple1[16],tuple1[0],tuple1[1])) #leye nose chest\n",
        "    angle1.append(func(tuple1[0],tuple1[1],tuple1[2])) #nose chest rshoulder\n",
        "    angle1.append(func(tuple1[0],tuple1[1],tuple1[5])) #nose chest lshoulder\n",
        "    angle1.append(func(tuple1[2],tuple1[1],tuple1[8])) #rshoulder chest abdomen\n",
        "    angle1.append(func(tuple1[5],tuple1[1],tuple1[8])) #lshoulder chest abdomen\n",
        "    angle1.append(func(tuple1[1],tuple1[2],tuple1[3])) #chest rshoulder relbow\n",
        "    angle1.append(func(tuple1[1],tuple1[5],tuple1[6]))#chest lshoulder lelbow\n",
        "    angle1.append(func(tuple1[2],tuple1[3],tuple1[4]))#rshoulder relbow rarm\n",
        "    angle1.append(func(tuple1[5],tuple1[6],tuple1[7]))#lshoulder lelbow larm\n",
        "    angle1.append(func(tuple1[1],tuple1[8],tuple1[9]))#chest abdomen rhip\n",
        "    angle1.append(func(tuple1[1],tuple1[8],tuple1[12]))#chest abdomen lhip\n",
        "    angle1.append(func(tuple1[8],tuple1[9],tuple1[10]))#abdomen rhip rknee\n",
        "    angle1.append(func(tuple1[8],tuple1[12],tuple1[13]))#abdomen lhip lknee\n",
        "    angle1.append(func(tuple1[9],tuple1[8],tuple1[12]))#rhip abdomen lhip\n",
        "    angle1.append(func(tuple1[9],tuple1[10],tuple1[11]))#rhip rknee rankle\n",
        "    angle1.append(func(tuple1[12],tuple1[13],tuple1[14]))#lhip lknee lankle\n",
        "    angle1.append(func(tuple1[10],tuple1[11],tuple1[24]))#rknee rankle rheel\n",
        "    angle1.append(func(tuple1[13],tuple1[14],tuple1[21]))#lknee lankle lheel\n",
        "    angle1.append(func(tuple1[11],tuple1[22],tuple1[23]))#rankle rfrontfoot rtoe\n",
        "    angle1.append(func(tuple1[14],tuple1[19],tuple1[20]))#lankle lfrontfoot ltoe\n",
        "    angle1.append(func(tuple1[24],tuple1[11],tuple1[22]))#rheel rankle rfrontfoot\n",
        "    angle1.append(func(tuple1[21],tuple1[14],tuple1[19]))#lheel lankle lfrontfoot\n",
        "    angle1.append(func(tuple1[2],tuple1[1],tuple1[5]))#rshoulder chest lshoulder\n",
        "   \n",
        "    angle2 = []\n",
        "   \n",
        "    angle2.append(func(tuple2[0],tuple2[15],tuple2[17])) #nose reye rear\n",
        "    angle2.append(func(tuple2[0],tuple2[16],tuple2[18])) #nose leye lear\n",
        "    angle2.append(func(tuple2[15],tuple2[0],tuple2[16])) #reye nose leye\n",
        "    angle2.append(func(tuple2[15],tuple2[0],tuple2[1])) #reye nose chest\n",
        "    angle2.append(func(tuple2[16],tuple2[0],tuple2[1])) #leye nose chest\n",
        "    angle2.append(func(tuple2[0],tuple2[1],tuple2[2])) #nose chest rshoulder\n",
        "    angle2.append(func(tuple2[0],tuple2[1],tuple2[5])) #nose chest lshoulder\n",
        "    angle2.append(func(tuple2[2],tuple2[1],tuple2[8])) #rshoulder chest abdomen\n",
        "    angle2.append(func(tuple2[5],tuple2[1],tuple2[8])) #lshoulder chest abdomen\n",
        "    angle2.append(func(tuple2[1],tuple2[2],tuple2[3])) #chest rshoulder relbow\n",
        "    angle2.append(func(tuple2[1],tuple2[5],tuple2[6]))#chest lshoulder lelbow\n",
        "    angle2.append(func(tuple2[2],tuple2[3],tuple2[4]))#rshoulder relbow rarm\n",
        "    angle2.append(func(tuple2[5],tuple2[6],tuple2[7]))#lshoulder lelbow larm\n",
        "    angle2.append(func(tuple2[1],tuple2[8],tuple2[9]))#chest abdomen rhip\n",
        "    angle2.append(func(tuple2[1],tuple2[8],tuple2[12]))#chest abdomen lhip\n",
        "    angle2.append(func(tuple2[8],tuple2[9],tuple2[10]))#abdomen rhip rknee\n",
        "    angle2.append(func(tuple2[8],tuple2[12],tuple2[13]))#abdomen lhip lknee\n",
        "    angle2.append(func(tuple2[9],tuple2[8],tuple2[12]))#rhip abdomen lhip\n",
        "    angle2.append(func(tuple2[9],tuple2[10],tuple2[11]))#rhip rknee rankle\n",
        "    angle2.append(func(tuple2[12],tuple2[13],tuple2[14]))#lhip lknee lankle\n",
        "    angle2.append(func(tuple2[10],tuple2[11],tuple2[24]))#rknee rankle rheel\n",
        "    angle2.append(func(tuple2[13],tuple2[14],tuple2[21]))#lknee lankle lheel[(0, False), (0, False), (0, False), (0, False), (0, False), (0, False), (0.2415202306868005, True), (0, False), (0.29741777647249146, True), (0, False), (0.34634776558756464, True), (0, False), (0, False), (0, False), (0, False), (0.24344605245181516, True), (0, False), (0.20710045738501126, True), (0, False), (0.1975046721975131, True), (0, False), (0, False), (0, False), (0, False), (0, False), (0.23129248543623304, True), (0.3145668793628751, True)]\n",
        "    angle2.append(func(tuple2[11],tuple2[22],tuple2[23]))#rankle rfrontfoot rtoe\n",
        "    angle2.append(func(tuple2[14],tuple2[19],tuple2[20]))#lankle lfrontfoot ltoe\n",
        "    angle2.append(func(tuple2[24],tuple2[11],tuple2[22]))#rheel rankle rfrontfoot\n",
        "    angle2.append(func(tuple2[21],tuple2[14],tuple2[19]))#lheel lankle lfrontfoot\n",
        "    angle2.append(func(tuple2[2],tuple2[1],tuple2[5]))#rshoulder chest lshoulder\n",
        "    \n",
        "    return (angle1,angle2)\n",
        "\n",
        "def comparison(dict1, dict2):\n",
        "  result = {}\n",
        "  for i in range(0, len(dict1)):  #Assumption-> No. of frames are equal\n",
        "    tuple1 = dict1[i]\n",
        "\n",
        "  for i in range(0,len(dict2)):\n",
        "    tuple2 = dict2[i] \n",
        "    \n",
        "#     for j in range(0, len(dict1[i])):\n",
        "#       tuple1[j]=dict1[i][j]\n",
        "#     for j in range(0, len(dict2[j])):\n",
        "#       tuple2[j]=dict2[i][j]\n",
        "\n",
        "    angle1,angle2 =  makeListOfAngles(tuple1,tuple2)\n",
        "\n",
        "    \n",
        "    diff = []\n",
        "    k=0\n",
        "    while(k<len(angle1) or k<len(angle2)):\n",
        "      if(angle1[k][1] == False or angle2[k][1] == False):   #some error\n",
        "        diff.append((0,False))\n",
        "        k += 1\n",
        "      else:\n",
        "        difference=abs(angle1[k][0]-angle2[k][0]);\n",
        "        if(difference <= 0.1872665):\n",
        "          diff.append((0,False))\n",
        "        else:\n",
        "          diff.append((difference, True))\n",
        "        k += 1\n",
        "    result[i] = diff\n",
        "  return result\n",
        "    \n",
        "def main():\n",
        "  tup1 = findKeyPoints('openpose/output1')\n",
        "  tup2 = findKeyPoints('openpose/output2')\n",
        "\n",
        "  # print(tup1[0])\n",
        "  item1 = {}\n",
        "  item2 = {}\n",
        "  for i in range(0, len(tup1[0])):\n",
        "    item1[i] = tup1[0][i]\n",
        "\n",
        "  for i in range(0, len(tup2[0])):\n",
        "    item2[i] = tup2[0][i]\n",
        "\n",
        "  # item2[57][6][0] =  400[(0, False), (0, False), (0, False), (0, False), (0, False), (0, False), (0.2415202306868005, True), (0, False), (0.29741777647249146, True), (0, False), (0.34634776558756464, True), (0, False), (0, False), (0, False), (0, False), (0.24344605245181516, True), (0, False), (0.20710045738501126, True), (0, False), (0.1975046721975131, True), (0, False), (0, False), (0, False), (0, False), (0, False), (0.23129248543623304, True), (0.3145668793628751, True)]\n",
        "  diff = comparison(item1, item2);\n",
        " \n",
        "\n",
        "  frameNo = findFirstFrame(item1,item2)\n",
        "  print(frameNo)\n",
        "  # print(diff)\n",
        "  # print(len(item1))\n",
        "  # print(len(item2))\n",
        "\n",
        "  points_to_bodyParts={0:'nose reye rear',1:'nose leye lear',2:'reye nose leye',3:'reye nose chest',4:'leye nose chest',5:'nose chest rshoulder',6:'nose chest lshoulder',7:'rshoulder chest abdomen',8:'lshoulder chest abdomen',9:'chest rshoulder relbow',10:'chest lshoulder lelbow',11:'rshoulder relbow rarm',12:'lshoulder lelbow larm',13:'chest abdomen rhip',14:'chest abdomen lhip',15:'abdomen rhip rknee',16:'abdomen lhip lknee',17:'rhip abdomen lhip',18:'rhip rknee rankle',19:'lhip lknee lankle',20:'rknee rankle rheel',21:'lknee lankle lheel',22:'rankle rfrontfoot rtoe',23:'lankle lfrontfoot ltoe',24:'rheel rankle rfrontfoot',25:'lheel lankle lfrontfoot',26:'rshoulder chest lshoulder'}\n",
        "\n",
        "  changes = {}\n",
        "  for i in range(0, len(diff)):\n",
        "    angleDiffList = []\n",
        "    for j in range(0, len(diff[i])):\n",
        "      if(diff[i][j][1] == True ):\n",
        "        angleDiffList.append(points_to_bodyParts[j])\n",
        "    changes[i] = angleDiffList\n",
        "  # print(changes)\n",
        "  for i in changes:\n",
        "    # print(changes[i])\n",
        "    plotSkeleton(tup1[1], tup1[2], tup1[3], i)\n",
        "    plotSkeleton(tup2[1], tup2[2], tup2[3], i)\n",
        "    break\n",
        "\n",
        "  plotPointsOnImage(tup1[1], tup1[2], tup1[3])\n",
        "\n",
        "if __name__ == \"__main__\": \n",
        "  main()\n",
        "  "
      ],
      "execution_count": null,
      "outputs": [
        {
          "output_type": "stream",
          "text": [
            "29\n"
          ],
          "name": "stdout"
        },
        {
          "output_type": "display_data",
          "data": {
            "image/png": "[encoded data removed]",
            "text/plain": [
              "<Figure size 432x288 with 1 Axes>"
            ]
          },
          "metadata": {
            "tags": []
          }
        },
        {
          "output_type": "display_data",
          "data": {
            "image/png": "[encoded data removed]",
            "text/plain": [
              "<Figure size 432x288 with 1 Axes>"
            ]
          },
          "metadata": {
            "tags": []
          }
        }
      ]
    },
    {
      "cell_type": "code",
      "metadata": {
        "id": "jwoRaAFDSh78"
      },
      "source": [
        "def clipUserVideo(frameNo,lastframeNo):\n",
        "  expert = cv2.VideoCapture('expert.mp4')\n",
        "  fps = expert.get(cv2.CAP_PROP_FPS)\n",
        "  time1=frameNo/fps\n",
        "  time2=lastframeNo/fps\n",
        "  print(time1,time2)\n",
        "  command = \"ffmpeg -i user.mp4 -vf trim=\" + str(time1) + \":\" + str(time2) + \" userMod.mp4\"\n",
        "  os.system(command)"
      ],
      "execution_count": null,
      "outputs": []
    },
    {
      "cell_type": "code",
      "metadata": {
        "id": "0oeuoWjRTEb5",
        "outputId": "6753668c-de7e-499d-a056-9ffb74fb1d9b",
        "colab": {
          "base_uri": "https://localhost:8080/",
          "height": 34
        }
      },
      "source": [
        "command = \"ffmpeg -i user.mp4 -vf trim=\" + str(time1) + \":\" + str(time2) + \" userMod.mp4\"\n",
        "os.system(command)"
      ],
      "execution_count": null,
      "outputs": [
        {
          "output_type": "execute_result",
          "data": {
            "text/plain": [
              "0"
            ]
          },
          "metadata": {
            "tags": []
          },
          "execution_count": 46
        }
      ]
    },
    {
      "cell_type": "code",
      "metadata": {
        "id": "DjcgcA47PwY6",
        "outputId": "64a74abb-9722-447a-8eea-28b3b76b9e38",
        "colab": {
          "base_uri": "https://localhost:8080/",
          "height": 34
        }
      },
      "source": [
        "command = \"cd images && ffmpeg -framerate \" + str(fps_expert) + \" -f image2 -s 1920x1080 -pix_fmt yuv420p -i user%09d.jpg -vcodec libx264 -crf \" + str(fps_expert) + \" out.mp4\"\n",
        "os.system(command)\n"
      ],
      "execution_count": null,
      "outputs": [
        {
          "output_type": "execute_result",
          "data": {
            "text/plain": [
              "0"
            ]
          },
          "metadata": {
            "tags": []
          },
          "execution_count": 47
        }
      ]
    }
  ]
}